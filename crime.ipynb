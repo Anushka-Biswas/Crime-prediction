{
  "nbformat": 4,
  "nbformat_minor": 0,
  "metadata": {
    "colab": {
      "provenance": []
    },
    "kernelspec": {
      "name": "python3",
      "display_name": "Python 3"
    },
    "language_info": {
      "name": "python"
    }
  },
  "cells": [
    {
      "cell_type": "code",
      "execution_count": null,
      "metadata": {
        "colab": {
          "base_uri": "https://localhost:8080/"
        },
        "id": "-L9bdN55waZC",
        "outputId": "0235ddff-f28a-4945-e9eb-95d071335e65"
      },
      "outputs": [
        {
          "output_type": "stream",
          "name": "stdout",
          "text": [
            "Requirement already satisfied: numpy in /usr/local/lib/python3.10/dist-packages (1.26.4)\n",
            "Requirement already satisfied: pandas in /usr/local/lib/python3.10/dist-packages (2.1.4)\n",
            "Requirement already satisfied: matplotlib in /usr/local/lib/python3.10/dist-packages (3.7.1)\n",
            "Requirement already satisfied: scikit-learn in /usr/local/lib/python3.10/dist-packages (1.5.2)\n",
            "Requirement already satisfied: tensorflow in /usr/local/lib/python3.10/dist-packages (2.17.0)\n",
            "Requirement already satisfied: python-dateutil>=2.8.2 in /usr/local/lib/python3.10/dist-packages (from pandas) (2.8.2)\n",
            "Requirement already satisfied: pytz>=2020.1 in /usr/local/lib/python3.10/dist-packages (from pandas) (2024.2)\n",
            "Requirement already satisfied: tzdata>=2022.1 in /usr/local/lib/python3.10/dist-packages (from pandas) (2024.1)\n",
            "Requirement already satisfied: contourpy>=1.0.1 in /usr/local/lib/python3.10/dist-packages (from matplotlib) (1.3.0)\n",
            "Requirement already satisfied: cycler>=0.10 in /usr/local/lib/python3.10/dist-packages (from matplotlib) (0.12.1)\n",
            "Requirement already satisfied: fonttools>=4.22.0 in /usr/local/lib/python3.10/dist-packages (from matplotlib) (4.53.1)\n",
            "Requirement already satisfied: kiwisolver>=1.0.1 in /usr/local/lib/python3.10/dist-packages (from matplotlib) (1.4.7)\n",
            "Requirement already satisfied: packaging>=20.0 in /usr/local/lib/python3.10/dist-packages (from matplotlib) (24.1)\n",
            "Requirement already satisfied: pillow>=6.2.0 in /usr/local/lib/python3.10/dist-packages (from matplotlib) (10.4.0)\n",
            "Requirement already satisfied: pyparsing>=2.3.1 in /usr/local/lib/python3.10/dist-packages (from matplotlib) (3.1.4)\n",
            "Requirement already satisfied: scipy>=1.6.0 in /usr/local/lib/python3.10/dist-packages (from scikit-learn) (1.13.1)\n",
            "Requirement already satisfied: joblib>=1.2.0 in /usr/local/lib/python3.10/dist-packages (from scikit-learn) (1.4.2)\n",
            "Requirement already satisfied: threadpoolctl>=3.1.0 in /usr/local/lib/python3.10/dist-packages (from scikit-learn) (3.5.0)\n",
            "Requirement already satisfied: absl-py>=1.0.0 in /usr/local/lib/python3.10/dist-packages (from tensorflow) (1.4.0)\n",
            "Requirement already satisfied: astunparse>=1.6.0 in /usr/local/lib/python3.10/dist-packages (from tensorflow) (1.6.3)\n",
            "Requirement already satisfied: flatbuffers>=24.3.25 in /usr/local/lib/python3.10/dist-packages (from tensorflow) (24.3.25)\n",
            "Requirement already satisfied: gast!=0.5.0,!=0.5.1,!=0.5.2,>=0.2.1 in /usr/local/lib/python3.10/dist-packages (from tensorflow) (0.6.0)\n",
            "Requirement already satisfied: google-pasta>=0.1.1 in /usr/local/lib/python3.10/dist-packages (from tensorflow) (0.2.0)\n",
            "Requirement already satisfied: h5py>=3.10.0 in /usr/local/lib/python3.10/dist-packages (from tensorflow) (3.11.0)\n",
            "Requirement already satisfied: libclang>=13.0.0 in /usr/local/lib/python3.10/dist-packages (from tensorflow) (18.1.1)\n",
            "Requirement already satisfied: ml-dtypes<0.5.0,>=0.3.1 in /usr/local/lib/python3.10/dist-packages (from tensorflow) (0.4.1)\n",
            "Requirement already satisfied: opt-einsum>=2.3.2 in /usr/local/lib/python3.10/dist-packages (from tensorflow) (3.3.0)\n",
            "Requirement already satisfied: protobuf!=4.21.0,!=4.21.1,!=4.21.2,!=4.21.3,!=4.21.4,!=4.21.5,<5.0.0dev,>=3.20.3 in /usr/local/lib/python3.10/dist-packages (from tensorflow) (3.20.3)\n",
            "Requirement already satisfied: requests<3,>=2.21.0 in /usr/local/lib/python3.10/dist-packages (from tensorflow) (2.32.3)\n",
            "Requirement already satisfied: setuptools in /usr/local/lib/python3.10/dist-packages (from tensorflow) (71.0.4)\n",
            "Requirement already satisfied: six>=1.12.0 in /usr/local/lib/python3.10/dist-packages (from tensorflow) (1.16.0)\n",
            "Requirement already satisfied: termcolor>=1.1.0 in /usr/local/lib/python3.10/dist-packages (from tensorflow) (2.4.0)\n",
            "Requirement already satisfied: typing-extensions>=3.6.6 in /usr/local/lib/python3.10/dist-packages (from tensorflow) (4.12.2)\n",
            "Requirement already satisfied: wrapt>=1.11.0 in /usr/local/lib/python3.10/dist-packages (from tensorflow) (1.16.0)\n",
            "Requirement already satisfied: grpcio<2.0,>=1.24.3 in /usr/local/lib/python3.10/dist-packages (from tensorflow) (1.64.1)\n",
            "Requirement already satisfied: tensorboard<2.18,>=2.17 in /usr/local/lib/python3.10/dist-packages (from tensorflow) (2.17.0)\n",
            "Requirement already satisfied: keras>=3.2.0 in /usr/local/lib/python3.10/dist-packages (from tensorflow) (3.4.1)\n",
            "Requirement already satisfied: tensorflow-io-gcs-filesystem>=0.23.1 in /usr/local/lib/python3.10/dist-packages (from tensorflow) (0.37.1)\n",
            "Requirement already satisfied: wheel<1.0,>=0.23.0 in /usr/local/lib/python3.10/dist-packages (from astunparse>=1.6.0->tensorflow) (0.44.0)\n",
            "Requirement already satisfied: rich in /usr/local/lib/python3.10/dist-packages (from keras>=3.2.0->tensorflow) (13.8.1)\n",
            "Requirement already satisfied: namex in /usr/local/lib/python3.10/dist-packages (from keras>=3.2.0->tensorflow) (0.0.8)\n",
            "Requirement already satisfied: optree in /usr/local/lib/python3.10/dist-packages (from keras>=3.2.0->tensorflow) (0.12.1)\n",
            "Requirement already satisfied: charset-normalizer<4,>=2 in /usr/local/lib/python3.10/dist-packages (from requests<3,>=2.21.0->tensorflow) (3.3.2)\n",
            "Requirement already satisfied: idna<4,>=2.5 in /usr/local/lib/python3.10/dist-packages (from requests<3,>=2.21.0->tensorflow) (3.10)\n",
            "Requirement already satisfied: urllib3<3,>=1.21.1 in /usr/local/lib/python3.10/dist-packages (from requests<3,>=2.21.0->tensorflow) (2.2.3)\n",
            "Requirement already satisfied: certifi>=2017.4.17 in /usr/local/lib/python3.10/dist-packages (from requests<3,>=2.21.0->tensorflow) (2024.8.30)\n",
            "Requirement already satisfied: markdown>=2.6.8 in /usr/local/lib/python3.10/dist-packages (from tensorboard<2.18,>=2.17->tensorflow) (3.7)\n",
            "Requirement already satisfied: tensorboard-data-server<0.8.0,>=0.7.0 in /usr/local/lib/python3.10/dist-packages (from tensorboard<2.18,>=2.17->tensorflow) (0.7.2)\n",
            "Requirement already satisfied: werkzeug>=1.0.1 in /usr/local/lib/python3.10/dist-packages (from tensorboard<2.18,>=2.17->tensorflow) (3.0.4)\n",
            "Requirement already satisfied: MarkupSafe>=2.1.1 in /usr/local/lib/python3.10/dist-packages (from werkzeug>=1.0.1->tensorboard<2.18,>=2.17->tensorflow) (2.1.5)\n",
            "Requirement already satisfied: markdown-it-py>=2.2.0 in /usr/local/lib/python3.10/dist-packages (from rich->keras>=3.2.0->tensorflow) (3.0.0)\n",
            "Requirement already satisfied: pygments<3.0.0,>=2.13.0 in /usr/local/lib/python3.10/dist-packages (from rich->keras>=3.2.0->tensorflow) (2.18.0)\n",
            "Requirement already satisfied: mdurl~=0.1 in /usr/local/lib/python3.10/dist-packages (from markdown-it-py>=2.2.0->rich->keras>=3.2.0->tensorflow) (0.1.2)\n"
          ]
        }
      ],
      "source": [
        "No pip install numpy pandas matplotlib scikit-learn tensorflow\n"
      ]
    },
    {
      "cell_type": "code",
      "source": [
        "from google.colab import drive\n",
        "drive.mount('/content/drive')"
      ],
      "metadata": {
        "colab": {
          "base_uri": "https://localhost:8080/"
        },
        "id": "93UMWDvCxfWC",
        "outputId": "27f55d34-8233-44f6-fdcf-92eed9fca97d"
      },
      "execution_count": null,
      "outputs": [
        {
          "output_type": "stream",
          "name": "stdout",
          "text": [
            "Mounted at /content/drive\n"
          ]
        }
      ]
    },
    {
      "cell_type": "code",
      "source": [
        "import pandas as pd\n",
        "import numpy as np\n",
        "import matplotlib.pyplot as plt\n",
        "from sklearn.preprocessing import MinMaxScaler\n",
        "from tensorflow.keras.models import Sequential\n",
        "from tensorflow.keras.layers import Dense, LSTM\n",
        "\n",
        "# Load the dataset\n",
        "file_path = '/content/crime.csv'\n",
        "data = pd.read_csv(file_path)\n",
        "\n",
        "# Display the first few rows of the dataset\n",
        "print(data.head())\n"
      ],
      "metadata": {
        "id": "akFFZ7WHzmL3",
        "colab": {
          "base_uri": "https://localhost:8080/"
        },
        "outputId": "224f8532-b59c-4fb8-f32f-e6d44a8f7f0b"
      },
      "execution_count": null,
      "outputs": [
        {
          "output_type": "stream",
          "name": "stdout",
          "text": [
            "            STATE/UT   CRIME HEAD  2001  2002  2003  2004  2005  2006  2007  \\\n",
            "0     ANDHRA PRADESH  INFANTICIDE     1     1     3     0     0     0     1   \n",
            "1  ARUNACHAL PRADESH  INFANTICIDE     0     0     0     0     0     0     0   \n",
            "2              ASSAM  INFANTICIDE     0     5     0     0     1     0     0   \n",
            "3              BIHAR  INFANTICIDE     0     0     0     0     2     0     2   \n",
            "4       CHHATTISGARH  INFANTICIDE     7    29     5    12     0    15    11   \n",
            "\n",
            "   2008  2009  2010  2011  2012  \n",
            "0     0     5     6     1     6  \n",
            "1     0     0     0     0     0  \n",
            "2     0     0     0     0     0  \n",
            "3     2     0     2     5     2  \n",
            "4     6     2     0    10     5  \n"
          ]
        }
      ]
    },
    {
      "cell_type": "code",
      "source": [
        "print(data.shape)"
      ],
      "metadata": {
        "id": "FGX7OpzgCo35",
        "colab": {
          "base_uri": "https://localhost:8080/"
        },
        "outputId": "b747f30c-842f-4be4-bcc9-53770ed85d49"
      },
      "execution_count": null,
      "outputs": [
        {
          "output_type": "stream",
          "name": "stdout",
          "text": [
            "(494, 14)\n"
          ]
        }
      ]
    },
    {
      "cell_type": "code",
      "source": [
        "# Check the raw data before transforming\n",
        "print(data.head())\n",
        "print(data.info())\n"
      ],
      "metadata": {
        "id": "A6gnmoLdCyun",
        "colab": {
          "base_uri": "https://localhost:8080/"
        },
        "outputId": "802fa627-e722-424c-b2ea-ca96bdfb6064"
      },
      "execution_count": null,
      "outputs": [
        {
          "output_type": "stream",
          "name": "stdout",
          "text": [
            "            STATE/UT   CRIME HEAD  2001  2002  2003  2004  2005  2006  2007  \\\n",
            "0     ANDHRA PRADESH  INFANTICIDE     1     1     3     0     0     0     1   \n",
            "1  ARUNACHAL PRADESH  INFANTICIDE     0     0     0     0     0     0     0   \n",
            "2              ASSAM  INFANTICIDE     0     5     0     0     1     0     0   \n",
            "3              BIHAR  INFANTICIDE     0     0     0     0     2     0     2   \n",
            "4       CHHATTISGARH  INFANTICIDE     7    29     5    12     0    15    11   \n",
            "\n",
            "   2008  2009  2010  2011  2012  \n",
            "0     0     5     6     1     6  \n",
            "1     0     0     0     0     0  \n",
            "2     0     0     0     0     0  \n",
            "3     2     0     2     5     2  \n",
            "4     6     2     0    10     5  \n",
            "<class 'pandas.core.frame.DataFrame'>\n",
            "RangeIndex: 494 entries, 0 to 493\n",
            "Data columns (total 14 columns):\n",
            " #   Column      Non-Null Count  Dtype \n",
            "---  ------      --------------  ----- \n",
            " 0   STATE/UT    494 non-null    object\n",
            " 1   CRIME HEAD  494 non-null    object\n",
            " 2   2001        494 non-null    int64 \n",
            " 3   2002        494 non-null    int64 \n",
            " 4   2003        494 non-null    int64 \n",
            " 5   2004        494 non-null    int64 \n",
            " 6   2005        494 non-null    int64 \n",
            " 7   2006        494 non-null    int64 \n",
            " 8   2007        494 non-null    int64 \n",
            " 9   2008        494 non-null    int64 \n",
            " 10  2009        494 non-null    int64 \n",
            " 11  2010        494 non-null    int64 \n",
            " 12  2011        494 non-null    int64 \n",
            " 13  2012        494 non-null    int64 \n",
            "dtypes: int64(12), object(2)\n",
            "memory usage: 54.2+ KB\n",
            "None\n"
          ]
        }
      ]
    },
    {
      "cell_type": "code",
      "source": [
        "data.head()"
      ],
      "metadata": {
        "id": "hxiZZF1E5wA6",
        "colab": {
          "base_uri": "https://localhost:8080/",
          "height": 206
        },
        "outputId": "5b8177c9-5802-44d6-ea37-65056bcc9f8a"
      },
      "execution_count": null,
      "outputs": [
        {
          "output_type": "execute_result",
          "data": {
            "text/plain": [
              "            STATE/UT   CRIME HEAD  2001  2002  2003  2004  2005  2006  2007  \\\n",
              "0     ANDHRA PRADESH  INFANTICIDE     1     1     3     0     0     0     1   \n",
              "1  ARUNACHAL PRADESH  INFANTICIDE     0     0     0     0     0     0     0   \n",
              "2              ASSAM  INFANTICIDE     0     5     0     0     1     0     0   \n",
              "3              BIHAR  INFANTICIDE     0     0     0     0     2     0     2   \n",
              "4       CHHATTISGARH  INFANTICIDE     7    29     5    12     0    15    11   \n",
              "\n",
              "   2008  2009  2010  2011  2012  \n",
              "0     0     5     6     1     6  \n",
              "1     0     0     0     0     0  \n",
              "2     0     0     0     0     0  \n",
              "3     2     0     2     5     2  \n",
              "4     6     2     0    10     5  "
            ],
            "text/html": [
              "\n",
              "  <div id=\"df-28c40890-e818-4aef-9c2b-a758857eac60\" class=\"colab-df-container\">\n",
              "    <div>\n",
              "<style scoped>\n",
              "    .dataframe tbody tr th:only-of-type {\n",
              "        vertical-align: middle;\n",
              "    }\n",
              "\n",
              "    .dataframe tbody tr th {\n",
              "        vertical-align: top;\n",
              "    }\n",
              "\n",
              "    .dataframe thead th {\n",
              "        text-align: right;\n",
              "    }\n",
              "</style>\n",
              "<table border=\"1\" class=\"dataframe\">\n",
              "  <thead>\n",
              "    <tr style=\"text-align: right;\">\n",
              "      <th></th>\n",
              "      <th>STATE/UT</th>\n",
              "      <th>CRIME HEAD</th>\n",
              "      <th>2001</th>\n",
              "      <th>2002</th>\n",
              "      <th>2003</th>\n",
              "      <th>2004</th>\n",
              "      <th>2005</th>\n",
              "      <th>2006</th>\n",
              "      <th>2007</th>\n",
              "      <th>2008</th>\n",
              "      <th>2009</th>\n",
              "      <th>2010</th>\n",
              "      <th>2011</th>\n",
              "      <th>2012</th>\n",
              "    </tr>\n",
              "  </thead>\n",
              "  <tbody>\n",
              "    <tr>\n",
              "      <th>0</th>\n",
              "      <td>ANDHRA PRADESH</td>\n",
              "      <td>INFANTICIDE</td>\n",
              "      <td>1</td>\n",
              "      <td>1</td>\n",
              "      <td>3</td>\n",
              "      <td>0</td>\n",
              "      <td>0</td>\n",
              "      <td>0</td>\n",
              "      <td>1</td>\n",
              "      <td>0</td>\n",
              "      <td>5</td>\n",
              "      <td>6</td>\n",
              "      <td>1</td>\n",
              "      <td>6</td>\n",
              "    </tr>\n",
              "    <tr>\n",
              "      <th>1</th>\n",
              "      <td>ARUNACHAL PRADESH</td>\n",
              "      <td>INFANTICIDE</td>\n",
              "      <td>0</td>\n",
              "      <td>0</td>\n",
              "      <td>0</td>\n",
              "      <td>0</td>\n",
              "      <td>0</td>\n",
              "      <td>0</td>\n",
              "      <td>0</td>\n",
              "      <td>0</td>\n",
              "      <td>0</td>\n",
              "      <td>0</td>\n",
              "      <td>0</td>\n",
              "      <td>0</td>\n",
              "    </tr>\n",
              "    <tr>\n",
              "      <th>2</th>\n",
              "      <td>ASSAM</td>\n",
              "      <td>INFANTICIDE</td>\n",
              "      <td>0</td>\n",
              "      <td>5</td>\n",
              "      <td>0</td>\n",
              "      <td>0</td>\n",
              "      <td>1</td>\n",
              "      <td>0</td>\n",
              "      <td>0</td>\n",
              "      <td>0</td>\n",
              "      <td>0</td>\n",
              "      <td>0</td>\n",
              "      <td>0</td>\n",
              "      <td>0</td>\n",
              "    </tr>\n",
              "    <tr>\n",
              "      <th>3</th>\n",
              "      <td>BIHAR</td>\n",
              "      <td>INFANTICIDE</td>\n",
              "      <td>0</td>\n",
              "      <td>0</td>\n",
              "      <td>0</td>\n",
              "      <td>0</td>\n",
              "      <td>2</td>\n",
              "      <td>0</td>\n",
              "      <td>2</td>\n",
              "      <td>2</td>\n",
              "      <td>0</td>\n",
              "      <td>2</td>\n",
              "      <td>5</td>\n",
              "      <td>2</td>\n",
              "    </tr>\n",
              "    <tr>\n",
              "      <th>4</th>\n",
              "      <td>CHHATTISGARH</td>\n",
              "      <td>INFANTICIDE</td>\n",
              "      <td>7</td>\n",
              "      <td>29</td>\n",
              "      <td>5</td>\n",
              "      <td>12</td>\n",
              "      <td>0</td>\n",
              "      <td>15</td>\n",
              "      <td>11</td>\n",
              "      <td>6</td>\n",
              "      <td>2</td>\n",
              "      <td>0</td>\n",
              "      <td>10</td>\n",
              "      <td>5</td>\n",
              "    </tr>\n",
              "  </tbody>\n",
              "</table>\n",
              "</div>\n",
              "    <div class=\"colab-df-buttons\">\n",
              "\n",
              "  <div class=\"colab-df-container\">\n",
              "    <button class=\"colab-df-convert\" onclick=\"convertToInteractive('df-28c40890-e818-4aef-9c2b-a758857eac60')\"\n",
              "            title=\"Convert this dataframe to an interactive table.\"\n",
              "            style=\"display:none;\">\n",
              "\n",
              "  <svg xmlns=\"http://www.w3.org/2000/svg\" height=\"24px\" viewBox=\"0 -960 960 960\">\n",
              "    <path d=\"M120-120v-720h720v720H120Zm60-500h600v-160H180v160Zm220 220h160v-160H400v160Zm0 220h160v-160H400v160ZM180-400h160v-160H180v160Zm440 0h160v-160H620v160ZM180-180h160v-160H180v160Zm440 0h160v-160H620v160Z\"/>\n",
              "  </svg>\n",
              "    </button>\n",
              "\n",
              "  <style>\n",
              "    .colab-df-container {\n",
              "      display:flex;\n",
              "      gap: 12px;\n",
              "    }\n",
              "\n",
              "    .colab-df-convert {\n",
              "      background-color: #E8F0FE;\n",
              "      border: none;\n",
              "      border-radius: 50%;\n",
              "      cursor: pointer;\n",
              "      display: none;\n",
              "      fill: #1967D2;\n",
              "      height: 32px;\n",
              "      padding: 0 0 0 0;\n",
              "      width: 32px;\n",
              "    }\n",
              "\n",
              "    .colab-df-convert:hover {\n",
              "      background-color: #E2EBFA;\n",
              "      box-shadow: 0px 1px 2px rgba(60, 64, 67, 0.3), 0px 1px 3px 1px rgba(60, 64, 67, 0.15);\n",
              "      fill: #174EA6;\n",
              "    }\n",
              "\n",
              "    .colab-df-buttons div {\n",
              "      margin-bottom: 4px;\n",
              "    }\n",
              "\n",
              "    [theme=dark] .colab-df-convert {\n",
              "      background-color: #3B4455;\n",
              "      fill: #D2E3FC;\n",
              "    }\n",
              "\n",
              "    [theme=dark] .colab-df-convert:hover {\n",
              "      background-color: #434B5C;\n",
              "      box-shadow: 0px 1px 3px 1px rgba(0, 0, 0, 0.15);\n",
              "      filter: drop-shadow(0px 1px 2px rgba(0, 0, 0, 0.3));\n",
              "      fill: #FFFFFF;\n",
              "    }\n",
              "  </style>\n",
              "\n",
              "    <script>\n",
              "      const buttonEl =\n",
              "        document.querySelector('#df-28c40890-e818-4aef-9c2b-a758857eac60 button.colab-df-convert');\n",
              "      buttonEl.style.display =\n",
              "        google.colab.kernel.accessAllowed ? 'block' : 'none';\n",
              "\n",
              "      async function convertToInteractive(key) {\n",
              "        const element = document.querySelector('#df-28c40890-e818-4aef-9c2b-a758857eac60');\n",
              "        const dataTable =\n",
              "          await google.colab.kernel.invokeFunction('convertToInteractive',\n",
              "                                                    [key], {});\n",
              "        if (!dataTable) return;\n",
              "\n",
              "        const docLinkHtml = 'Like what you see? Visit the ' +\n",
              "          '<a target=\"_blank\" href=https://colab.research.google.com/notebooks/data_table.ipynb>data table notebook</a>'\n",
              "          + ' to learn more about interactive tables.';\n",
              "        element.innerHTML = '';\n",
              "        dataTable['output_type'] = 'display_data';\n",
              "        await google.colab.output.renderOutput(dataTable, element);\n",
              "        const docLink = document.createElement('div');\n",
              "        docLink.innerHTML = docLinkHtml;\n",
              "        element.appendChild(docLink);\n",
              "      }\n",
              "    </script>\n",
              "  </div>\n",
              "\n",
              "\n",
              "<div id=\"df-07bbdb81-e223-42e9-a4f3-222d0ad3c57e\">\n",
              "  <button class=\"colab-df-quickchart\" onclick=\"quickchart('df-07bbdb81-e223-42e9-a4f3-222d0ad3c57e')\"\n",
              "            title=\"Suggest charts\"\n",
              "            style=\"display:none;\">\n",
              "\n",
              "<svg xmlns=\"http://www.w3.org/2000/svg\" height=\"24px\"viewBox=\"0 0 24 24\"\n",
              "     width=\"24px\">\n",
              "    <g>\n",
              "        <path d=\"M19 3H5c-1.1 0-2 .9-2 2v14c0 1.1.9 2 2 2h14c1.1 0 2-.9 2-2V5c0-1.1-.9-2-2-2zM9 17H7v-7h2v7zm4 0h-2V7h2v10zm4 0h-2v-4h2v4z\"/>\n",
              "    </g>\n",
              "</svg>\n",
              "  </button>\n",
              "\n",
              "<style>\n",
              "  .colab-df-quickchart {\n",
              "      --bg-color: #E8F0FE;\n",
              "      --fill-color: #1967D2;\n",
              "      --hover-bg-color: #E2EBFA;\n",
              "      --hover-fill-color: #174EA6;\n",
              "      --disabled-fill-color: #AAA;\n",
              "      --disabled-bg-color: #DDD;\n",
              "  }\n",
              "\n",
              "  [theme=dark] .colab-df-quickchart {\n",
              "      --bg-color: #3B4455;\n",
              "      --fill-color: #D2E3FC;\n",
              "      --hover-bg-color: #434B5C;\n",
              "      --hover-fill-color: #FFFFFF;\n",
              "      --disabled-bg-color: #3B4455;\n",
              "      --disabled-fill-color: #666;\n",
              "  }\n",
              "\n",
              "  .colab-df-quickchart {\n",
              "    background-color: var(--bg-color);\n",
              "    border: none;\n",
              "    border-radius: 50%;\n",
              "    cursor: pointer;\n",
              "    display: none;\n",
              "    fill: var(--fill-color);\n",
              "    height: 32px;\n",
              "    padding: 0;\n",
              "    width: 32px;\n",
              "  }\n",
              "\n",
              "  .colab-df-quickchart:hover {\n",
              "    background-color: var(--hover-bg-color);\n",
              "    box-shadow: 0 1px 2px rgba(60, 64, 67, 0.3), 0 1px 3px 1px rgba(60, 64, 67, 0.15);\n",
              "    fill: var(--button-hover-fill-color);\n",
              "  }\n",
              "\n",
              "  .colab-df-quickchart-complete:disabled,\n",
              "  .colab-df-quickchart-complete:disabled:hover {\n",
              "    background-color: var(--disabled-bg-color);\n",
              "    fill: var(--disabled-fill-color);\n",
              "    box-shadow: none;\n",
              "  }\n",
              "\n",
              "  .colab-df-spinner {\n",
              "    border: 2px solid var(--fill-color);\n",
              "    border-color: transparent;\n",
              "    border-bottom-color: var(--fill-color);\n",
              "    animation:\n",
              "      spin 1s steps(1) infinite;\n",
              "  }\n",
              "\n",
              "  @keyframes spin {\n",
              "    0% {\n",
              "      border-color: transparent;\n",
              "      border-bottom-color: var(--fill-color);\n",
              "      border-left-color: var(--fill-color);\n",
              "    }\n",
              "    20% {\n",
              "      border-color: transparent;\n",
              "      border-left-color: var(--fill-color);\n",
              "      border-top-color: var(--fill-color);\n",
              "    }\n",
              "    30% {\n",
              "      border-color: transparent;\n",
              "      border-left-color: var(--fill-color);\n",
              "      border-top-color: var(--fill-color);\n",
              "      border-right-color: var(--fill-color);\n",
              "    }\n",
              "    40% {\n",
              "      border-color: transparent;\n",
              "      border-right-color: var(--fill-color);\n",
              "      border-top-color: var(--fill-color);\n",
              "    }\n",
              "    60% {\n",
              "      border-color: transparent;\n",
              "      border-right-color: var(--fill-color);\n",
              "    }\n",
              "    80% {\n",
              "      border-color: transparent;\n",
              "      border-right-color: var(--fill-color);\n",
              "      border-bottom-color: var(--fill-color);\n",
              "    }\n",
              "    90% {\n",
              "      border-color: transparent;\n",
              "      border-bottom-color: var(--fill-color);\n",
              "    }\n",
              "  }\n",
              "</style>\n",
              "\n",
              "  <script>\n",
              "    async function quickchart(key) {\n",
              "      const quickchartButtonEl =\n",
              "        document.querySelector('#' + key + ' button');\n",
              "      quickchartButtonEl.disabled = true;  // To prevent multiple clicks.\n",
              "      quickchartButtonEl.classList.add('colab-df-spinner');\n",
              "      try {\n",
              "        const charts = await google.colab.kernel.invokeFunction(\n",
              "            'suggestCharts', [key], {});\n",
              "      } catch (error) {\n",
              "        console.error('Error during call to suggestCharts:', error);\n",
              "      }\n",
              "      quickchartButtonEl.classList.remove('colab-df-spinner');\n",
              "      quickchartButtonEl.classList.add('colab-df-quickchart-complete');\n",
              "    }\n",
              "    (() => {\n",
              "      let quickchartButtonEl =\n",
              "        document.querySelector('#df-07bbdb81-e223-42e9-a4f3-222d0ad3c57e button');\n",
              "      quickchartButtonEl.style.display =\n",
              "        google.colab.kernel.accessAllowed ? 'block' : 'none';\n",
              "    })();\n",
              "  </script>\n",
              "</div>\n",
              "\n",
              "    </div>\n",
              "  </div>\n"
            ],
            "application/vnd.google.colaboratory.intrinsic+json": {
              "type": "dataframe",
              "variable_name": "data",
              "summary": "{\n  \"name\": \"data\",\n  \"rows\": 494,\n  \"fields\": [\n    {\n      \"column\": \"STATE/UT\",\n      \"properties\": {\n        \"dtype\": \"category\",\n        \"num_unique_values\": 38,\n        \"samples\": [\n          \"DELHI\",\n          \"TOTAL (UTs)\",\n          \"CHHATTISGARH\"\n        ],\n        \"semantic_type\": \"\",\n        \"description\": \"\"\n      }\n    },\n    {\n      \"column\": \"CRIME HEAD\",\n      \"properties\": {\n        \"dtype\": \"category\",\n        \"num_unique_values\": 13,\n        \"samples\": [\n          \"OTHER CRIMES AGAINST CHILDREN\",\n          \"SELLING OF GIRLS FOR PROSTITUTION\",\n          \"INFANTICIDE\"\n        ],\n        \"semantic_type\": \"\",\n        \"description\": \"\"\n      }\n    },\n    {\n      \"column\": \"2001\",\n      \"properties\": {\n        \"dtype\": \"number\",\n        \"std\": 991,\n        \"min\": 0,\n        \"max\": 13401,\n        \"num_unique_values\": 106,\n        \"samples\": [\n          144,\n          9,\n          6\n        ],\n        \"semantic_type\": \"\",\n        \"description\": \"\"\n      }\n    },\n    {\n      \"column\": \"2002\",\n      \"properties\": {\n        \"dtype\": \"number\",\n        \"std\": 898,\n        \"min\": 0,\n        \"max\": 12507,\n        \"num_unique_values\": 108,\n        \"samples\": [\n          490,\n          50,\n          3\n        ],\n        \"semantic_type\": \"\",\n        \"description\": \"\"\n      }\n    },\n    {\n      \"column\": \"2003\",\n      \"properties\": {\n        \"dtype\": \"number\",\n        \"std\": 971,\n        \"min\": 0,\n        \"max\": 13524,\n        \"num_unique_values\": 115,\n        \"samples\": [\n          192,\n          9,\n          71\n        ],\n        \"semantic_type\": \"\",\n        \"description\": \"\"\n      }\n    },\n    {\n      \"column\": \"2004\",\n      \"properties\": {\n        \"dtype\": \"number\",\n        \"std\": 1201,\n        \"min\": 0,\n        \"max\": 16663,\n        \"num_unique_values\": 122,\n        \"samples\": [\n          9,\n          232,\n          475\n        ],\n        \"semantic_type\": \"\",\n        \"description\": \"\"\n      }\n    },\n    {\n      \"column\": \"2005\",\n      \"properties\": {\n        \"dtype\": \"number\",\n        \"std\": 1248,\n        \"min\": 0,\n        \"max\": 17353,\n        \"num_unique_values\": 123,\n        \"samples\": [\n          212,\n          531,\n          23\n        ],\n        \"semantic_type\": \"\",\n        \"description\": \"\"\n      }\n    },\n    {\n      \"column\": \"2006\",\n      \"properties\": {\n        \"dtype\": \"number\",\n        \"std\": 1471,\n        \"min\": 0,\n        \"max\": 20870,\n        \"num_unique_values\": 138,\n        \"samples\": [\n          120,\n          183,\n          39\n        ],\n        \"semantic_type\": \"\",\n        \"description\": \"\"\n      }\n    },\n    {\n      \"column\": \"2007\",\n      \"properties\": {\n        \"dtype\": \"number\",\n        \"std\": 1590,\n        \"min\": 0,\n        \"max\": 22432,\n        \"num_unique_values\": 139,\n        \"samples\": [\n          52,\n          32,\n          1849\n        ],\n        \"semantic_type\": \"\",\n        \"description\": \"\"\n      }\n    },\n    {\n      \"column\": \"2008\",\n      \"properties\": {\n        \"dtype\": \"number\",\n        \"std\": 1846,\n        \"min\": 0,\n        \"max\": 25766,\n        \"num_unique_values\": 141,\n        \"samples\": [\n          24,\n          34,\n          9\n        ],\n        \"semantic_type\": \"\",\n        \"description\": \"\"\n      }\n    },\n    {\n      \"column\": \"2009\",\n      \"properties\": {\n        \"dtype\": \"number\",\n        \"std\": 1868,\n        \"min\": 0,\n        \"max\": 26012,\n        \"num_unique_values\": 137,\n        \"samples\": [\n          3729,\n          217,\n          8\n        ],\n        \"semantic_type\": \"\",\n        \"description\": \"\"\n      }\n    },\n    {\n      \"column\": \"2010\",\n      \"properties\": {\n        \"dtype\": \"number\",\n        \"std\": 1954,\n        \"min\": 0,\n        \"max\": 27403,\n        \"num_unique_values\": 144,\n        \"samples\": [\n          8575,\n          13,\n          9085\n        ],\n        \"semantic_type\": \"\",\n        \"description\": \"\"\n      }\n    },\n    {\n      \"column\": \"2011\",\n      \"properties\": {\n        \"dtype\": \"number\",\n        \"std\": 2556,\n        \"min\": 0,\n        \"max\": 35427,\n        \"num_unique_values\": 150,\n        \"samples\": [\n          63,\n          40,\n          487\n        ],\n        \"semantic_type\": \"\",\n        \"description\": \"\"\n      }\n    },\n    {\n      \"column\": \"2012\",\n      \"properties\": {\n        \"dtype\": \"number\",\n        \"std\": 3073,\n        \"min\": 0,\n        \"max\": 42117,\n        \"num_unique_values\": 155,\n        \"samples\": [\n          17863,\n          90,\n          604\n        ],\n        \"semantic_type\": \"\",\n        \"description\": \"\"\n      }\n    }\n  ]\n}"
            }
          },
          "metadata": {},
          "execution_count": 6
        }
      ]
    },
    {
      "cell_type": "code",
      "source": [
        "df_long = data.melt(id_vars=['STATE/UT', 'CRIME HEAD'], var_name='year', value_name='cases')\n",
        "# 'data' is the variable you defined when reading the csv file"
      ],
      "metadata": {
        "id": "pN-TU8fLHFLr"
      },
      "execution_count": null,
      "outputs": []
    },
    {
      "cell_type": "code",
      "source": [
        "# Pivot data\n",
        "df_pivot = df_long.pivot_table(index=['STATE/UT', 'CRIME HEAD'], columns='year', values='cases')\n",
        "\n",
        "# Fill missing values if any\n",
        "df_pivot.fillna(0, inplace=True)\n"
      ],
      "metadata": {
        "id": "vbzFA0dm5tCV"
      },
      "execution_count": null,
      "outputs": []
    },
    {
      "cell_type": "code",
      "source": [
        "print(df_pivot.head())\n",
        "print(df_pivot.shape)"
      ],
      "metadata": {
        "id": "QnLXQkqDDGCL",
        "colab": {
          "base_uri": "https://localhost:8080/"
        },
        "outputId": "f55c408b-db2a-44ba-ce55-16a9c45b0cd5"
      },
      "execution_count": null,
      "outputs": [
        {
          "output_type": "stream",
          "name": "stdout",
          "text": [
            "year                                            2001  2002  2003  2004  2005  \\\n",
            "STATE/UT      CRIME HEAD                                                       \n",
            "A & N ISLANDS  TOTAL CRIMES AGAINST CHILDREN     0.0   0.0   4.0  20.0  17.0   \n",
            "              ABETMENT OF SUICIDE                0.0   0.0   0.0   0.0   0.0   \n",
            "              BUYING OF GIRLS FOR PROSTITUTION   0.0   0.0   0.0   0.0   0.0   \n",
            "              EXPOSURE AND ABANDONMENT           0.0   0.0   0.0   0.0   0.0   \n",
            "              FOETICIDE                          0.0   0.0   0.0   0.0   0.0   \n",
            "\n",
            "year                                            2006  2007  2008  2009  2010  \\\n",
            "STATE/UT      CRIME HEAD                                                       \n",
            "A & N ISLANDS  TOTAL CRIMES AGAINST CHILDREN    10.0   9.0  52.0  63.0  61.0   \n",
            "              ABETMENT OF SUICIDE                0.0   0.0   0.0   0.0   0.0   \n",
            "              BUYING OF GIRLS FOR PROSTITUTION   0.0   0.0   0.0   0.0   0.0   \n",
            "              EXPOSURE AND ABANDONMENT           0.0   0.0   0.0   0.0   0.0   \n",
            "              FOETICIDE                          0.0   0.0   0.0   0.0   1.0   \n",
            "\n",
            "year                                            2011  2012  \n",
            "STATE/UT      CRIME HEAD                                    \n",
            "A & N ISLANDS  TOTAL CRIMES AGAINST CHILDREN    36.0  33.0  \n",
            "              ABETMENT OF SUICIDE                0.0   0.0  \n",
            "              BUYING OF GIRLS FOR PROSTITUTION   0.0   0.0  \n",
            "              EXPOSURE AND ABANDONMENT           2.0   0.0  \n",
            "              FOETICIDE                          0.0   0.0  \n",
            "(494, 12)\n"
          ]
        }
      ]
    },
    {
      "cell_type": "code",
      "source": [
        "df_reset = df_pivot.reset_index()"
      ],
      "metadata": {
        "id": "repWZojiEnbf"
      },
      "execution_count": null,
      "outputs": []
    },
    {
      "cell_type": "code",
      "source": [
        "df_long = df_reset.melt(id_vars=['STATE/UT', 'CRIME HEAD'], var_name='year', value_name='cases')\n",
        "df_long['year'] = df_long['year'].astype(int)"
      ],
      "metadata": {
        "id": "Rq2EN3F6EyKc"
      },
      "execution_count": null,
      "outputs": []
    },
    {
      "cell_type": "code",
      "source": [
        "def create_sequences(df, sequence_length):\n",
        "    X, y, y_true = [], [], []\n",
        "\n",
        "    for state in df['STATE/UT'].unique():\n",
        "        for crime in df['CRIME HEAD'].unique():\n",
        "            subset = df[(df['STATE/UT'] == state) & (df['CRIME HEAD'] == crime)]\n",
        "\n",
        "            # Pivot to get years as rows and arrests as values\n",
        "            values = subset.pivot(index='year', columns='CRIME HEAD', values='cases').values\n",
        "\n",
        "            # Create sequences\n",
        "            for i in range(len(values) - sequence_length):\n",
        "                X.append(values[i:i+sequence_length])\n",
        "                y.append(values[i+sequence_length])\n",
        "                y_true.append(values[i+sequence_length])  # Save actual values\n",
        "\n",
        "    return np.array(X), np.array(y), np.array(y_true)\n",
        "\n",
        "# Create sequences with a specified length\n",
        "sequence_length = 5\n",
        "X, y, y_true = create_sequences(df_long, sequence_length)\n"
      ],
      "metadata": {
        "id": "xowiKpXe6BxV"
      },
      "execution_count": null,
      "outputs": []
    },
    {
      "cell_type": "code",
      "source": [
        "scaler_X = MinMaxScaler(feature_range=(0, 1))\n",
        "X_reshaped = X.reshape(-1, X.shape[2])\n",
        "X_scaled = scaler_X.fit_transform(X_reshaped).reshape(X.shape)\n",
        "\n",
        "# Initialize and fit scaler for y\n",
        "scaler_y = MinMaxScaler(feature_range=(0, 1))\n",
        "y_scaled = scaler_y.fit_transform(y.reshape(-1, 1)).reshape(y.shape)"
      ],
      "metadata": {
        "id": "OJqYcDzWFDlu"
      },
      "execution_count": null,
      "outputs": []
    },
    {
      "cell_type": "code",
      "source": [
        "model = Sequential()\n",
        "model.add(LSTM(50, activation='relu', input_shape=(sequence_length, X.shape[2])))\n",
        "model.add(Dense(1))\n",
        "model.compile(optimizer='adam', loss='mean_squared_error')"
      ],
      "metadata": {
        "id": "ip8aOzRSFHDp",
        "colab": {
          "base_uri": "https://localhost:8080/"
        },
        "outputId": "73966818-6016-4a35-d27c-3e5218390676"
      },
      "execution_count": null,
      "outputs": [
        {
          "output_type": "stream",
          "name": "stderr",
          "text": [
            "/usr/local/lib/python3.10/dist-packages/keras/src/layers/rnn/rnn.py:204: UserWarning: Do not pass an `input_shape`/`input_dim` argument to a layer. When using Sequential models, prefer using an `Input(shape)` object as the first layer in the model instead.\n",
            "  super().__init__(**kwargs)\n"
          ]
        }
      ]
    },
    {
      "cell_type": "code",
      "source": [
        "print(model.summary())\n",
        "\n",
        "# Train the model\n",
        "history = model.fit(X_scaled, y_scaled, epochs=10, batch_size=32, validation_split=0.2)\n",
        "\n",
        "# Predict with the model\n",
        "y_pred_scaled = model.predict(X_scaled)\n",
        "\n",
        "# Output actual and predicted values\n",
        "y_pred = scaler_y.inverse_transform(y_pred_scaled.reshape(-1, 1)).reshape(y_scaled.shape) # Use scaler_y to inverse transform\n",
        "y_true_original = scaler_y.inverse_transform(y_true.reshape(-1, 1)).reshape(y_true.shape) # Use scaler_y to inverse transform\n",
        "\n",
        "comparison_df = pd.DataFrame({\n",
        "    'Actual': y_true_original.flatten(),\n",
        "    'Predicted': y_pred.flatten()\n",
        "})\n",
        "\n",
        "print(comparison_df.head())"
      ],
      "metadata": {
        "id": "uqSkdjJPFLHv",
        "colab": {
          "base_uri": "https://localhost:8080/",
          "height": 679
        },
        "outputId": "145e7405-266b-4528-bdad-bd2c95bfccae"
      },
      "execution_count": null,
      "outputs": [
        {
          "output_type": "display_data",
          "data": {
            "text/plain": [
              "\u001b[1mModel: \"sequential\"\u001b[0m\n"
            ],
            "text/html": [
              "<pre style=\"white-space:pre;overflow-x:auto;line-height:normal;font-family:Menlo,'DejaVu Sans Mono',consolas,'Courier New',monospace\"><span style=\"font-weight: bold\">Model: \"sequential\"</span>\n",
              "</pre>\n"
            ]
          },
          "metadata": {}
        },
        {
          "output_type": "display_data",
          "data": {
            "text/plain": [
              "┏━━━━━━━━━━━━━━━━━━━━━━━━━━━━━━━━━━━━━━┳━━━━━━━━━━━━━━━━━━━━━━━━━━━━━┳━━━━━━━━━━━━━━━━━┓\n",
              "┃\u001b[1m \u001b[0m\u001b[1mLayer (type)                        \u001b[0m\u001b[1m \u001b[0m┃\u001b[1m \u001b[0m\u001b[1mOutput Shape               \u001b[0m\u001b[1m \u001b[0m┃\u001b[1m \u001b[0m\u001b[1m        Param #\u001b[0m\u001b[1m \u001b[0m┃\n",
              "┡━━━━━━━━━━━━━━━━━━━━━━━━━━━━━━━━━━━━━━╇━━━━━━━━━━━━━━━━━━━━━━━━━━━━━╇━━━━━━━━━━━━━━━━━┩\n",
              "│ lstm (\u001b[38;5;33mLSTM\u001b[0m)                          │ (\u001b[38;5;45mNone\u001b[0m, \u001b[38;5;34m50\u001b[0m)                  │          \u001b[38;5;34m10,400\u001b[0m │\n",
              "├──────────────────────────────────────┼─────────────────────────────┼─────────────────┤\n",
              "│ dense (\u001b[38;5;33mDense\u001b[0m)                        │ (\u001b[38;5;45mNone\u001b[0m, \u001b[38;5;34m1\u001b[0m)                   │              \u001b[38;5;34m51\u001b[0m │\n",
              "└──────────────────────────────────────┴─────────────────────────────┴─────────────────┘\n"
            ],
            "text/html": [
              "<pre style=\"white-space:pre;overflow-x:auto;line-height:normal;font-family:Menlo,'DejaVu Sans Mono',consolas,'Courier New',monospace\">┏━━━━━━━━━━━━━━━━━━━━━━━━━━━━━━━━━━━━━━┳━━━━━━━━━━━━━━━━━━━━━━━━━━━━━┳━━━━━━━━━━━━━━━━━┓\n",
              "┃<span style=\"font-weight: bold\"> Layer (type)                         </span>┃<span style=\"font-weight: bold\"> Output Shape                </span>┃<span style=\"font-weight: bold\">         Param # </span>┃\n",
              "┡━━━━━━━━━━━━━━━━━━━━━━━━━━━━━━━━━━━━━━╇━━━━━━━━━━━━━━━━━━━━━━━━━━━━━╇━━━━━━━━━━━━━━━━━┩\n",
              "│ lstm (<span style=\"color: #0087ff; text-decoration-color: #0087ff\">LSTM</span>)                          │ (<span style=\"color: #00d7ff; text-decoration-color: #00d7ff\">None</span>, <span style=\"color: #00af00; text-decoration-color: #00af00\">50</span>)                  │          <span style=\"color: #00af00; text-decoration-color: #00af00\">10,400</span> │\n",
              "├──────────────────────────────────────┼─────────────────────────────┼─────────────────┤\n",
              "│ dense (<span style=\"color: #0087ff; text-decoration-color: #0087ff\">Dense</span>)                        │ (<span style=\"color: #00d7ff; text-decoration-color: #00d7ff\">None</span>, <span style=\"color: #00af00; text-decoration-color: #00af00\">1</span>)                   │              <span style=\"color: #00af00; text-decoration-color: #00af00\">51</span> │\n",
              "└──────────────────────────────────────┴─────────────────────────────┴─────────────────┘\n",
              "</pre>\n"
            ]
          },
          "metadata": {}
        },
        {
          "output_type": "display_data",
          "data": {
            "text/plain": [
              "\u001b[1m Total params: \u001b[0m\u001b[38;5;34m10,451\u001b[0m (40.82 KB)\n"
            ],
            "text/html": [
              "<pre style=\"white-space:pre;overflow-x:auto;line-height:normal;font-family:Menlo,'DejaVu Sans Mono',consolas,'Courier New',monospace\"><span style=\"font-weight: bold\"> Total params: </span><span style=\"color: #00af00; text-decoration-color: #00af00\">10,451</span> (40.82 KB)\n",
              "</pre>\n"
            ]
          },
          "metadata": {}
        },
        {
          "output_type": "display_data",
          "data": {
            "text/plain": [
              "\u001b[1m Trainable params: \u001b[0m\u001b[38;5;34m10,451\u001b[0m (40.82 KB)\n"
            ],
            "text/html": [
              "<pre style=\"white-space:pre;overflow-x:auto;line-height:normal;font-family:Menlo,'DejaVu Sans Mono',consolas,'Courier New',monospace\"><span style=\"font-weight: bold\"> Trainable params: </span><span style=\"color: #00af00; text-decoration-color: #00af00\">10,451</span> (40.82 KB)\n",
              "</pre>\n"
            ]
          },
          "metadata": {}
        },
        {
          "output_type": "display_data",
          "data": {
            "text/plain": [
              "\u001b[1m Non-trainable params: \u001b[0m\u001b[38;5;34m0\u001b[0m (0.00 B)\n"
            ],
            "text/html": [
              "<pre style=\"white-space:pre;overflow-x:auto;line-height:normal;font-family:Menlo,'DejaVu Sans Mono',consolas,'Courier New',monospace\"><span style=\"font-weight: bold\"> Non-trainable params: </span><span style=\"color: #00af00; text-decoration-color: #00af00\">0</span> (0.00 B)\n",
              "</pre>\n"
            ]
          },
          "metadata": {}
        },
        {
          "output_type": "stream",
          "name": "stdout",
          "text": [
            "None\n",
            "Epoch 1/10\n",
            "\u001b[1m87/87\u001b[0m \u001b[32m━━━━━━━━━━━━━━━━━━━━\u001b[0m\u001b[37m\u001b[0m \u001b[1m7s\u001b[0m 15ms/step - loss: 3.9023e-05 - val_loss: 0.0026\n",
            "Epoch 2/10\n",
            "\u001b[1m87/87\u001b[0m \u001b[32m━━━━━━━━━━━━━━━━━━━━\u001b[0m\u001b[37m\u001b[0m \u001b[1m2s\u001b[0m 6ms/step - loss: 8.3380e-06 - val_loss: 9.5076e-04\n",
            "Epoch 3/10\n",
            "\u001b[1m87/87\u001b[0m \u001b[32m━━━━━━━━━━━━━━━━━━━━\u001b[0m\u001b[37m\u001b[0m \u001b[1m1s\u001b[0m 6ms/step - loss: 6.7587e-06 - val_loss: 9.1450e-04\n",
            "Epoch 4/10\n",
            "\u001b[1m87/87\u001b[0m \u001b[32m━━━━━━━━━━━━━━━━━━━━\u001b[0m\u001b[37m\u001b[0m \u001b[1m1s\u001b[0m 6ms/step - loss: 5.3931e-06 - val_loss: 0.0011\n",
            "Epoch 5/10\n",
            "\u001b[1m87/87\u001b[0m \u001b[32m━━━━━━━━━━━━━━━━━━━━\u001b[0m\u001b[37m\u001b[0m \u001b[1m1s\u001b[0m 6ms/step - loss: 4.6308e-06 - val_loss: 9.9395e-04\n",
            "Epoch 6/10\n",
            "\u001b[1m87/87\u001b[0m \u001b[32m━━━━━━━━━━━━━━━━━━━━\u001b[0m\u001b[37m\u001b[0m \u001b[1m1s\u001b[0m 7ms/step - loss: 6.4657e-06 - val_loss: 8.6702e-04\n",
            "Epoch 7/10\n",
            "\u001b[1m87/87\u001b[0m \u001b[32m━━━━━━━━━━━━━━━━━━━━\u001b[0m\u001b[37m\u001b[0m \u001b[1m1s\u001b[0m 7ms/step - loss: 4.4274e-06 - val_loss: 0.0012\n",
            "Epoch 8/10\n",
            "\u001b[1m87/87\u001b[0m \u001b[32m━━━━━━━━━━━━━━━━━━━━\u001b[0m\u001b[37m\u001b[0m \u001b[1m1s\u001b[0m 6ms/step - loss: 5.3305e-06 - val_loss: 0.0010\n",
            "Epoch 9/10\n",
            "\u001b[1m87/87\u001b[0m \u001b[32m━━━━━━━━━━━━━━━━━━━━\u001b[0m\u001b[37m\u001b[0m \u001b[1m1s\u001b[0m 5ms/step - loss: 3.8932e-06 - val_loss: 0.0010\n",
            "Epoch 10/10\n",
            "\u001b[1m87/87\u001b[0m \u001b[32m━━━━━━━━━━━━━━━━━━━━\u001b[0m\u001b[37m\u001b[0m \u001b[1m1s\u001b[0m 4ms/step - loss: 5.4487e-06 - val_loss: 0.0011\n",
            "\u001b[1m109/109\u001b[0m \u001b[32m━━━━━━━━━━━━━━━━━━━━\u001b[0m\u001b[37m\u001b[0m \u001b[1m1s\u001b[0m 3ms/step\n",
            "      Actual  Predicted\n",
            "0   421170.0 -33.885132\n",
            "1   379053.0 -31.607203\n",
            "2  2190084.0 -29.922060\n",
            "3  2653371.0 -16.904881\n",
            "4  2569137.0  -4.232558\n"
          ]
        }
      ]
    },
    {
      "cell_type": "code",
      "source": [
        "def predict_future(model, last_sequence, scaler_y, num_steps=3):\n",
        "    predictions = []\n",
        "    sequence = last_sequence\n",
        "\n",
        "    for _ in range(num_steps):\n",
        "        y_pred_scaled = model.predict(sequence)\n",
        "        y_pred = scaler_y.inverse_transform(y_pred_scaled.reshape(-1, 1)).reshape(1, -1)\n",
        "        predictions.append(y_pred.flatten())\n",
        "\n",
        "        # Update sequence with the new prediction\n",
        "        sequence = np.roll(sequence, shift=-1, axis=1)\n",
        "        sequence[0, -1, 0] = y_pred.flatten()[0]\n",
        "\n",
        "    return predictions\n",
        "\n",
        "# Predict future values\n",
        "last_sequence = X[-1].reshape((1, sequence_length, X.shape[2]))\n",
        "future_predictions = predict_future(model, last_sequence, scaler_y, num_steps=3)\n",
        "\n",
        "# Flatten the list of arrays and handle potential issues\n",
        "future_predictions_flat = np.concatenate(future_predictions) if future_predictions else []\n",
        "\n",
        "# Debug print statements\n",
        "print(f\"Crime Heads: {crime_heads}\")\n",
        "print(f\"Number of Crime Heads: {num_crime_heads}\")\n",
        "print(f\"Number of Years: {num_years}\")\n",
        "print(f\"Future Predictions Length: {len(future_predictions_flat)}\")\n",
        "\n",
        "# Check if lengths match\n",
        "expected_length = num_crime_heads * num_years\n",
        "print(f\"Expected Length: {expected_length}\")\n",
        "\n",
        "if len(future_predictions_flat) == expected_length:\n",
        "    predictions_df = pd.DataFrame({\n",
        "        'Crime Head': np.tile(crime_heads, num_years),\n",
        "        'Year': np.repeat(range(2013, 2013 + num_years), num_crime_heads),\n",
        "        'Predicted Arrests': future_predictions_flat\n",
        "    })\n",
        "else:\n",
        "    #print(\"Mismatch in lengths. Adjusting data.\")\n",
        "    # Adjust predictions to fit the expected length\n",
        "    adjusted_predictions = np.resize(future_predictions_flat, expected_length)\n",
        "\n",
        "    predictions_df = pd.DataFrame({\n",
        "        'Crime Head': np.tile(crime_heads, num_years),\n",
        "        'Year': np.repeat(range(2013, 2013 + num_years), num_crime_heads),\n",
        "        'Predicted Arrests': adjusted_predictions\n",
        "    })\n",
        "\n",
        "print(predictions_df)"
      ],
      "metadata": {
        "id": "1bzoL1GNJ81_",
        "colab": {
          "base_uri": "https://localhost:8080/",
          "height": 263
        },
        "outputId": "1f80d764-4a79-48c2-f394-4c83478691c3"
      },
      "execution_count": null,
      "outputs": [
        {
          "output_type": "stream",
          "name": "stdout",
          "text": [
            "\u001b[1m1/1\u001b[0m \u001b[32m━━━━━━━━━━━━━━━━━━━━\u001b[0m\u001b[37m\u001b[0m \u001b[1m0s\u001b[0m 28ms/step\n",
            "\u001b[1m1/1\u001b[0m \u001b[32m━━━━━━━━━━━━━━━━━━━━\u001b[0m\u001b[37m\u001b[0m \u001b[1m0s\u001b[0m 26ms/step\n",
            "\u001b[1m1/1\u001b[0m \u001b[32m━━━━━━━━━━━━━━━━━━━━\u001b[0m\u001b[37m\u001b[0m \u001b[1m0s\u001b[0m 26ms/step\n"
          ]
        },
        {
          "output_type": "error",
          "ename": "NameError",
          "evalue": "name 'crime_heads' is not defined",
          "traceback": [
            "\u001b[0;31m---------------------------------------------------------------------------\u001b[0m",
            "\u001b[0;31mNameError\u001b[0m                                 Traceback (most recent call last)",
            "\u001b[0;32m<ipython-input-31-98f839227e54>\u001b[0m in \u001b[0;36m<cell line: 24>\u001b[0;34m()\u001b[0m\n\u001b[1;32m     22\u001b[0m \u001b[0;34m\u001b[0m\u001b[0m\n\u001b[1;32m     23\u001b[0m \u001b[0;31m# Debug print statements\u001b[0m\u001b[0;34m\u001b[0m\u001b[0;34m\u001b[0m\u001b[0m\n\u001b[0;32m---> 24\u001b[0;31m \u001b[0mprint\u001b[0m\u001b[0;34m(\u001b[0m\u001b[0;34mf\"Crime Heads: {crime_heads}\"\u001b[0m\u001b[0;34m)\u001b[0m\u001b[0;34m\u001b[0m\u001b[0;34m\u001b[0m\u001b[0m\n\u001b[0m\u001b[1;32m     25\u001b[0m \u001b[0mprint\u001b[0m\u001b[0;34m(\u001b[0m\u001b[0;34mf\"Number of Crime Heads: {num_crime_heads}\"\u001b[0m\u001b[0;34m)\u001b[0m\u001b[0;34m\u001b[0m\u001b[0;34m\u001b[0m\u001b[0m\n\u001b[1;32m     26\u001b[0m \u001b[0mprint\u001b[0m\u001b[0;34m(\u001b[0m\u001b[0;34mf\"Number of Years: {num_years}\"\u001b[0m\u001b[0;34m)\u001b[0m\u001b[0;34m\u001b[0m\u001b[0;34m\u001b[0m\u001b[0m\n",
            "\u001b[0;31mNameError\u001b[0m: name 'crime_heads' is not defined"
          ]
        }
      ]
    },
    {
      "cell_type": "code",
      "source": [
        "from sklearn.metrics import mean_squared_error, mean_absolute_error, r2_score"
      ],
      "metadata": {
        "id": "PimefBWdI195"
      },
      "execution_count": null,
      "outputs": []
    },
    {
      "cell_type": "code",
      "source": [
        "mse = mean_squared_error(y_true_original, y_pred)\n",
        "mae = mean_absolute_error(y_true_original, y_pred)\n",
        "r2 = r2_score(y_true_original, y_pred)\n",
        "\n",
        "# Output metrics\n",
        "print(f\"Mean Squared Error (MSE): {mse}\")\n",
        "print(f\"Mean Absolute Error (MAE): {mae}\")\n",
        "print(f\"R-squared (R2): {r2}\")\n"
      ],
      "metadata": {
        "id": "W--CjdO0IuJa",
        "colab": {
          "base_uri": "https://localhost:8080/"
        },
        "outputId": "4259a6d8-d642-4b72-8784-0d39d9a15f7e"
      },
      "execution_count": null,
      "outputs": [
        {
          "output_type": "stream",
          "name": "stdout",
          "text": [
            "Mean Squared Error (MSE): 8166570343933413.0\n",
            "Mean Absolute Error (MAE): 14621615.720267277\n",
            "R-squared (R2): -0.02684681625181229\n"
          ]
        }
      ]
    },
    {
      "cell_type": "code",
      "source": [
        "from sklearn.preprocessing import StandardScaler\n",
        "from sklearn.cluster import KMeans\n",
        "import pandas as pd\n",
        "import numpy as np\n",
        "\n",
        "# Assuming df_pivot contains the crime data with states and crime types\n",
        "# Normalize the data\n",
        "scaler = StandardScaler()\n",
        "data_normalized = scaler.fit_transform(df_pivot)\n",
        "\n",
        "# Apply K-Means clustering\n",
        "num_clusters = 5  # You can adjust this number\n",
        "kmeans = KMeans(n_clusters=num_clusters, random_state=42)\n",
        "clusters = kmeans.fit_predict(data_normalized)\n",
        "\n",
        "# Add cluster labels to the original DataFrame\n",
        "df_pivot['Cluster'] = clusters\n",
        "\n",
        "print(df_pivot.head())\n"
      ],
      "metadata": {
        "id": "12ftxHcsPVYb",
        "colab": {
          "base_uri": "https://localhost:8080/"
        },
        "outputId": "7bb1177a-6063-4bd1-cd90-7add7278abab"
      },
      "execution_count": null,
      "outputs": [
        {
          "output_type": "stream",
          "name": "stdout",
          "text": [
            "year                                            2001  2002  2003  2004  2005  \\\n",
            "STATE/UT      CRIME HEAD                                                       \n",
            "A & N ISLANDS  TOTAL CRIMES AGAINST CHILDREN     0.0   0.0   4.0  20.0  17.0   \n",
            "              ABETMENT OF SUICIDE                0.0   0.0   0.0   0.0   0.0   \n",
            "              BUYING OF GIRLS FOR PROSTITUTION   0.0   0.0   0.0   0.0   0.0   \n",
            "              EXPOSURE AND ABANDONMENT           0.0   0.0   0.0   0.0   0.0   \n",
            "              FOETICIDE                          0.0   0.0   0.0   0.0   0.0   \n",
            "\n",
            "year                                            2006  2007  2008  2009  2010  \\\n",
            "STATE/UT      CRIME HEAD                                                       \n",
            "A & N ISLANDS  TOTAL CRIMES AGAINST CHILDREN    10.0   9.0  52.0  63.0  61.0   \n",
            "              ABETMENT OF SUICIDE                0.0   0.0   0.0   0.0   0.0   \n",
            "              BUYING OF GIRLS FOR PROSTITUTION   0.0   0.0   0.0   0.0   0.0   \n",
            "              EXPOSURE AND ABANDONMENT           0.0   0.0   0.0   0.0   0.0   \n",
            "              FOETICIDE                          0.0   0.0   0.0   0.0   1.0   \n",
            "\n",
            "year                                            2011  2012  Cluster  \n",
            "STATE/UT      CRIME HEAD                                             \n",
            "A & N ISLANDS  TOTAL CRIMES AGAINST CHILDREN    36.0  33.0        0  \n",
            "              ABETMENT OF SUICIDE                0.0   0.0        0  \n",
            "              BUYING OF GIRLS FOR PROSTITUTION   0.0   0.0        0  \n",
            "              EXPOSURE AND ABANDONMENT           2.0   0.0        0  \n",
            "              FOETICIDE                          0.0   0.0        0  \n"
          ]
        }
      ]
    },
    {
      "cell_type": "code",
      "source": [
        "import pandas as pd\n",
        "\n",
        "# List of state names (example)\n",
        "states = [\n",
        "    'State1', 'State2', 'State3', 'State4', 'State5', 'State6',\n",
        "    'State7', 'State8', 'State9', 'State10', 'State11', 'State12', 'State13'\n",
        "]\n",
        "\n",
        "# Example cluster data (make sure it's the same length as the states list)\n",
        "# If you have fewer clusters than states, repeat the cluster list to match\n",
        "clusters = [0, 1, 2]  # Example clusters\n",
        "num_states = len(states)\n",
        "num_clusters = len(clusters)\n",
        "\n",
        "# Repeat clusters to match the length of states\n",
        "repeated_clusters = clusters * (num_states // num_clusters) + clusters[:num_states % num_clusters]\n",
        "\n",
        "# Check lengths\n",
        "print(f\"Length of states list: {len(states)}\")\n",
        "print(f\"Length of repeated clusters list: {len(repeated_clusters)}\")\n",
        "\n",
        "# Create DataFrame\n",
        "state_cluster_data = pd.DataFrame({\n",
        "    'STATE/UT': states,\n",
        "    'Cluster': repeated_clusters\n",
        "})\n",
        "\n",
        "print(state_cluster_data)\n"
      ],
      "metadata": {
        "id": "D-47QXNQUBRL",
        "colab": {
          "base_uri": "https://localhost:8080/"
        },
        "outputId": "07c1aeeb-0640-4104-d79d-71d680262ca0"
      },
      "execution_count": null,
      "outputs": [
        {
          "output_type": "stream",
          "name": "stdout",
          "text": [
            "Length of states list: 13\n",
            "Length of repeated clusters list: 13\n",
            "   STATE/UT  Cluster\n",
            "0    State1        0\n",
            "1    State2        1\n",
            "2    State3        2\n",
            "3    State4        0\n",
            "4    State5        1\n",
            "5    State6        2\n",
            "6    State7        0\n",
            "7    State8        1\n",
            "8    State9        2\n",
            "9   State10        0\n",
            "10  State11        1\n",
            "11  State12        2\n",
            "12  State13        0\n"
          ]
        }
      ]
    },
    {
      "cell_type": "code",
      "source": [
        "# Correct state names corresponding to the clusters\n",
        "actual_state_names = [\n",
        "    'Andaman and Nicobar', 'Andhra Pradesh', 'Arunachal Pradesh', 'Assam',\n",
        "    'Bihar', 'Chandigarh', 'Chhattisgarh', 'Dadra and Nagar Haveli',\n",
        "    'Daman and Diu', 'Delhi', 'Goa', 'Gujarat', 'Haryana'\n",
        "]\n",
        "\n",
        "# Update state names in state_cluster_data\n",
        "state_cluster_data['STATE/UT'] = actual_state_names\n",
        "\n",
        "# Check the updated DataFrame\n",
        "print(state_cluster_data)\n"
      ],
      "metadata": {
        "id": "6UAb-E4IgUvz",
        "colab": {
          "base_uri": "https://localhost:8080/"
        },
        "outputId": "6326674e-cdd9-4b23-be6f-6293e0837eed"
      },
      "execution_count": null,
      "outputs": [
        {
          "output_type": "stream",
          "name": "stdout",
          "text": [
            "                  STATE/UT  Cluster\n",
            "0      Andaman and Nicobar        0\n",
            "1           Andhra Pradesh        1\n",
            "2        Arunachal Pradesh        2\n",
            "3                    Assam        0\n",
            "4                    Bihar        1\n",
            "5               Chandigarh        2\n",
            "6             Chhattisgarh        0\n",
            "7   Dadra and Nagar Haveli        1\n",
            "8            Daman and Diu        2\n",
            "9                    Delhi        0\n",
            "10                     Goa        1\n",
            "11                 Gujarat        2\n",
            "12                 Haryana        0\n"
          ]
        }
      ]
    },
    {
      "cell_type": "code",
      "source": [
        "# Define the list of crime heads\n",
        "crime_head_values = [\n",
        "    'Total Crimes Against Children', 'Abetment of Suicide', 'Buying of Girls for Prostitution',\n",
        "    'Exposure and Abandonment', 'Foeticide', 'Infanticide', 'Kidnapping and Abduction of Children',\n",
        "    'Murder of Children', 'Other Crimes Against Children', 'Procurement of Minor Girls',\n",
        "    'Prohibition of Child Marriage Act', 'Rape of Children', 'Selling of Girls for Prostitution'\n",
        "]\n",
        "\n",
        "# Ensure this list matches the length and order of your states\n"
      ],
      "metadata": {
        "id": "bf1esSVejcnM"
      },
      "execution_count": null,
      "outputs": []
    },
    {
      "cell_type": "code",
      "source": [
        "import pandas as pd\n",
        "\n",
        "# Define lists\n",
        "states = ['State1', 'State2', 'State3', 'State4', 'State5', 'State6', 'State7', 'State8',\n",
        "          'State9', 'State10', 'State11', 'State12', 'State13']  # Length 13\n",
        "\n",
        "clusters = [0, 1, 2]  # Length 3\n",
        "crime_head_values = [\n",
        "    'Total Crimes Against Children', 'Abetment of Suicide', 'Buying of Girls for Prostitution',\n",
        "    'Exposure and Abandonment', 'Foeticide', 'Infanticide', 'Kidnapping and Abduction of Children',\n",
        "    'Murder of Children', 'Other Crimes Against Children', 'Procurement of Minor Girls',\n",
        "    'Prohibition of Child Marriage Act', 'Rape of Children', 'Selling of Girls for Prostitution'\n",
        "]  # Length 13\n",
        "\n",
        "# Adjust clusters to match the length of states\n",
        "num_states = len(states)\n",
        "num_clusters = len(clusters)\n",
        "\n",
        "# Repeat clusters to match length\n",
        "repeated_clusters = clusters * (num_states // num_clusters) + clusters[:num_states % num_clusters]\n",
        "\n",
        "# Verify lengths\n",
        "print(f\"Length of states: {len(states)}\")\n",
        "print(f\"Length of repeated_clusters: {len(repeated_clusters)}\")\n",
        "print(f\"Length of crime_head_values: {len(crime_head_values)}\")\n",
        "\n",
        "# Create DataFrame\n",
        "state_cluster_data = pd.DataFrame({\n",
        "    'STATE/UT': states,\n",
        "    'Cluster': repeated_clusters,\n",
        "    'Crime Head': crime_head_values\n",
        "})\n",
        "\n",
        "print(state_cluster_data)\n"
      ],
      "metadata": {
        "id": "YW39rH3TjfK-",
        "colab": {
          "base_uri": "https://localhost:8080/"
        },
        "outputId": "cc59f7c8-b744-400f-89ce-28e51dc22c08"
      },
      "execution_count": null,
      "outputs": [
        {
          "output_type": "stream",
          "name": "stdout",
          "text": [
            "Length of states: 13\n",
            "Length of repeated_clusters: 13\n",
            "Length of crime_head_values: 13\n",
            "   STATE/UT  Cluster                            Crime Head\n",
            "0    State1        0         Total Crimes Against Children\n",
            "1    State2        1                   Abetment of Suicide\n",
            "2    State3        2      Buying of Girls for Prostitution\n",
            "3    State4        0              Exposure and Abandonment\n",
            "4    State5        1                             Foeticide\n",
            "5    State6        2                           Infanticide\n",
            "6    State7        0  Kidnapping and Abduction of Children\n",
            "7    State8        1                    Murder of Children\n",
            "8    State9        2         Other Crimes Against Children\n",
            "9   State10        0            Procurement of Minor Girls\n",
            "10  State11        1     Prohibition of Child Marriage Act\n",
            "11  State12        2                      Rape of Children\n",
            "12  State13        0     Selling of Girls for Prostitution\n"
          ]
        }
      ]
    },
    {
      "cell_type": "code",
      "source": [
        "clusters = clusters * (len(states) // len(clusters)) + clusters[:len(states) % len(clusters)]\n"
      ],
      "metadata": {
        "id": "CDV7769bj5hI"
      },
      "execution_count": null,
      "outputs": []
    },
    {
      "cell_type": "code",
      "source": [
        "# Example mapping from your state names to the ones used in india_map\n",
        "name_mapping = {\n",
        "    'State1': 'Andaman and Nicobar',\n",
        "    'State2': 'Andhra Pradesh',\n",
        "    'State3': 'Arunachal Pradesh',\n",
        "    'State4': 'Assam',\n",
        "    'State5': 'Bihar',\n",
        "    'State6': 'Chandigarh',\n",
        "    'State7': 'Chhattisgarh',\n",
        "    'State8': 'Dadra and Nagar Haveli',\n",
        "    'State9': 'Daman and Diu',\n",
        "    'State10': 'Delhi',\n",
        "    'State11': 'Goa',\n",
        "    'State12': 'Gujarat',\n",
        "    'State13': 'Haryana'\n",
        "    # Add mappings for all states as needed\n",
        "}\n"
      ],
      "metadata": {
        "id": "kh6cCn6uk4Oh"
      },
      "execution_count": null,
      "outputs": []
    },
    {
      "cell_type": "code",
      "source": [
        "state_cluster_data['STATE/UT'] = state_cluster_data['STATE/UT'].map(name_mapping)\n"
      ],
      "metadata": {
        "id": "Lm2yqf0clKd4"
      },
      "execution_count": null,
      "outputs": []
    },
    {
      "cell_type": "code",
      "source": [
        "print(state_cluster_data['STATE/UT'].isna().sum())\n"
      ],
      "metadata": {
        "id": "ntFslavNlNkL",
        "colab": {
          "base_uri": "https://localhost:8080/"
        },
        "outputId": "78c62674-7cb2-409c-8468-221300e9de5d"
      },
      "execution_count": null,
      "outputs": [
        {
          "output_type": "stream",
          "name": "stdout",
          "text": [
            "0\n"
          ]
        }
      ]
    },
    {
      "cell_type": "code",
      "source": [
        "\n",
        "import geopandas as gpd\n",
        "\n",
        "# Load the map data from a file\n",
        "india_map = gpd.read_file('/content/india_state_geo.json')\n",
        "\n",
        "# Now you can proceed with the merge operation\n",
        "df_map = india_map.merge(state_cluster_data, left_on='NAME_1', right_on='STATE/UT', how='left')\n",
        "\n",
        "# Check the result of the merge\n",
        "print(df_map.head())\n",
        "print(df_map.info())"
      ],
      "metadata": {
        "id": "K8cmapUilQZ4",
        "colab": {
          "base_uri": "https://localhost:8080/"
        },
        "outputId": "f5e49274-8548-4412-b8d7-c8f43de40b91"
      },
      "execution_count": null,
      "outputs": [
        {
          "output_type": "stream",
          "name": "stdout",
          "text": [
            "   ID_0  ISO NAME_0  ID_1               NAME_1 NL_NAME_1  \\\n",
            "0   105  IND  India     1  Andaman and Nicobar      None   \n",
            "1   105  IND  India     2       Andhra Pradesh      None   \n",
            "2   105  IND  India     3    Arunachal Pradesh      None   \n",
            "3   105  IND  India     4                Assam      None   \n",
            "4   105  IND  India     5                Bihar      None   \n",
            "\n",
            "                                           VARNAME_1          TYPE_1  \\\n",
            "0  Andaman & Nicobar Islands|Andaman et Nicobar|I...  Union Territor   \n",
            "1                                               None           State   \n",
            "2  Agence de la Frontire du Nord-Est(French-obsol...           State   \n",
            "3                                               None           State   \n",
            "4                                               None           State   \n",
            "\n",
            "         ENGTYPE_1                                           geometry  \\\n",
            "0  Union Territory  MULTIPOLYGON (((93.78773 6.85264, 93.78849 6.8...   \n",
            "1            State  MULTIPOLYGON (((80.27458 13.45958, 80.27458 13...   \n",
            "2            State  POLYGON ((96.15778 29.3831, 96.1638 29.37668, ...   \n",
            "3            State  MULTIPOLYGON (((89.87145 25.5373, 89.87118 25....   \n",
            "4            State  MULTIPOLYGON (((88.10548 26.53904, 88.10505 26...   \n",
            "\n",
            "              STATE/UT  Cluster                        Crime Head  \n",
            "0  Andaman and Nicobar      0.0     Total Crimes Against Children  \n",
            "1       Andhra Pradesh      1.0               Abetment of Suicide  \n",
            "2    Arunachal Pradesh      2.0  Buying of Girls for Prostitution  \n",
            "3                Assam      0.0          Exposure and Abandonment  \n",
            "4                Bihar      1.0                         Foeticide  \n",
            "<class 'geopandas.geodataframe.GeoDataFrame'>\n",
            "RangeIndex: 35 entries, 0 to 34\n",
            "Data columns (total 13 columns):\n",
            " #   Column      Non-Null Count  Dtype   \n",
            "---  ------      --------------  -----   \n",
            " 0   ID_0        35 non-null     int32   \n",
            " 1   ISO         35 non-null     object  \n",
            " 2   NAME_0      35 non-null     object  \n",
            " 3   ID_1        35 non-null     int32   \n",
            " 4   NAME_1      35 non-null     object  \n",
            " 5   NL_NAME_1   0 non-null      object  \n",
            " 6   VARNAME_1   14 non-null     object  \n",
            " 7   TYPE_1      35 non-null     object  \n",
            " 8   ENGTYPE_1   35 non-null     object  \n",
            " 9   geometry    35 non-null     geometry\n",
            " 10  STATE/UT    13 non-null     object  \n",
            " 11  Cluster     13 non-null     float64 \n",
            " 12  Crime Head  13 non-null     object  \n",
            "dtypes: float64(1), geometry(1), int32(2), object(9)\n",
            "memory usage: 3.4+ KB\n",
            "None\n"
          ]
        }
      ]
    },
    {
      "cell_type": "code",
      "source": [
        "import geopandas as gpd\n",
        "import matplotlib.pyplot as plt\n",
        "\n",
        "# Plot the map\n",
        "fig, ax = plt.subplots(1, 1, figsize=(12, 12))\n",
        "\n",
        "# Plot the entire outline of India\n",
        "india_map.boundary.plot(ax=ax, linewidth=1.5, color='black')\n",
        "\n",
        "# Overlay the states with clusters\n",
        "plot = df_map.plot(column='Cluster', ax=ax, cmap='viridis', edgecolor='k', legend=False)\n",
        "\n",
        "# Setting the x and y axis limits to ensure the entire map is visible\n",
        "ax.set_xlim(india_map.total_bounds[0], india_map.total_bounds[2])\n",
        "ax.set_ylim(india_map.total_bounds[1], india_map.total_bounds[3])\n",
        "\n",
        "# Adding axis labels\n",
        "ax.set_xlabel('Longitude', fontsize=14)\n",
        "ax.set_ylabel('Latitude', fontsize=14)\n",
        "\n",
        "# Adding a title\n",
        "ax.set_title('Crime Clusters by State in India', fontsize=16, fontweight='bold')\n",
        "\n",
        "# Customizing the legend manually\n",
        "cbar = plot.get_figure().colorbar(plot.collections[0], ax=ax)\n",
        "cbar.set_label('Cluster')\n",
        "cbar.ax.set_ylabel('Cluster', fontsize=12)\n",
        "cbar.ax.tick_params(labelsize=10)\n",
        "\n",
        "# Add text annotations for crime heads\n",
        "for idx, row in df_map.dropna(subset=['Cluster']).iterrows():\n",
        "    if row.geometry.is_valid:\n",
        "        ax.text(row.geometry.centroid.x, row.geometry.centroid.y,\n",
        "                f\"{row['Crime Head']}\",\n",
        "                fontsize=8, ha='center', color='black', bbox=dict(facecolor='white', alpha=0.7, edgecolor='black'))\n",
        "\n",
        "plt.show()\n"
      ],
      "metadata": {
        "id": "YYO2hY0llSc5",
        "colab": {
          "base_uri": "https://localhost:8080/",
          "height": 975
        },
        "outputId": "ebef2011-1b5b-4f99-dbff-ae256ae7d561"
      },
      "execution_count": null,
      "outputs": [
        {
          "output_type": "display_data",
          "data": {
            "text/plain": [
              "<Figure size 1200x1200 with 2 Axes>"
            ],
            "image/png": "[encoded data removed]"
          },
          "metadata": {}
        }
      ]
    },
    {
      "cell_type": "code",
      "source": [
        "pip install numpy pandas matplotlib scikit-learn geopandas folium\n"
      ],
      "metadata": {
        "id": "6w-G7QttVT-D"
      },
      "execution_count": null,
      "outputs": []
    }
  ]
}